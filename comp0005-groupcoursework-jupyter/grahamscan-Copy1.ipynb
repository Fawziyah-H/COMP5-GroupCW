{
 "cells": [
  {
   "cell_type": "markdown",
   "metadata": {},
   "source": [
    "# Graham scan algorithm"
   ]
  },
  {
   "cell_type": "markdown",
   "metadata": {},
   "source": [
    "Use the cell below for all python code needed to realise the Graham scan algorithm (including any auxiliary data structures and functions you might need). The `grahamscan()` function itself should take as input parameter a list of 2D points (`inputSet`), and return the subset of such points that lie on the convex hull (`outputSet`)."
   ]
  },
  {
   "cell_type": "code",
   "execution_count": 41,
   "metadata": {},
   "outputs": [],
   "source": [
    "from math import atan2\n",
    "\n",
    "def cal_angle(p0, p):\n",
    "    y = p0[1] - p[1]\n",
    "    x = p0[0] - p[0]\n",
    "    angle = atan2(y, x)\n",
    "    return angle\n",
    "\n",
    "def cal_dis(p0, p):\n",
    "    y = p0[1] - p[1]\n",
    "    x = p0[0] - p[0]\n",
    "    dis = x**2 + y**2\n",
    "    return dis\n",
    "\n",
    "def find_start_point(points):\n",
    "    start_point_num = None\n",
    "    for i, (x, y) in enumerate(points):\n",
    "        if start_point_num is None or y < points[start_point_num][1]:\n",
    "            start_point_num = i\n",
    "        if y == points[start_point_num][1] and x < points[start_point_num][0]:\n",
    "            start_point_num = i\n",
    "    start_point = points[start_point_num]\n",
    "    return start_point\n",
    "\n",
    "def bubbleSort(aList, points):\n",
    "    hasExchanged = True\n",
    "    passes = len(aList) - 1\n",
    "\n",
    "    while passes > 0 and hasExchanged:\n",
    "        hasExchanged = False\n",
    "        for i in range(passes):\n",
    "            if aList[i] > aList[i + 1]:\n",
    "                hasExchanged = True\n",
    "                aList[i], aList[i + 1] = aList[i + 1], aList[i]\n",
    "                points[i], points[i + 1] = points[i + 1], points[i]\n",
    "        passes = passes - 1\n",
    "    return points\n",
    "\n",
    "def det(p1, p2, p3):\n",
    "    return (p2[0] - p1[0]) * (p3[1] - p1[1]) \\\n",
    "           - (p2[1] - p1[1]) * (p3[0] - p1[0])\n",
    "\n",
    "def grahamscan(inputSet):\n",
    "    spoint = find_start_point(inputSet)\n",
    "    angle_list = []\n",
    "    for i in inputSet:\n",
    "        angle = cal_angle(i, spoint)\n",
    "        angle_list.append(angle)\n",
    "    sorted = bubbleSort(angle_list, inputSet)\n",
    "    del inputSet[inputSet.index(spoint)]\n",
    "    outputSet = [spoint, sorted[0]]\n",
    "    for i in sorted[1:]:\n",
    "        while det(outputSet[-2], outputSet[-1], i) <= 0:\n",
    "            del outputSet[-1]\n",
    "        outputSet.append(i)\n",
    "    return outputSet\n"
   ]
  },
  {
   "cell_type": "markdown",
   "metadata": {},
   "source": [
    "Use the cell below for all python code needed to generate test data points (both random and those representing worst-case scenario)."
   ]
  },
  {
   "cell_type": "code",
   "execution_count": 42,
   "metadata": {},
   "outputs": [],
   "source": [
    "import random\n",
    "\n",
    "\n",
    "#code for random data generation\n",
    "def randomPoints(n):\n",
    "    randPoints = [(random.randrange(0,32767), random.randrange(0,32767)) for i in range(n)]\n",
    "    return randPoints\n",
    "#code for worst case data generation\n"
   ]
  },
  {
   "cell_type": "markdown",
   "metadata": {},
   "source": [
    "Use the cell below for all python code needed to test the `grahamscan()` function on the data generated above."
   ]
  },
  {
   "cell_type": "code",
   "execution_count": 43,
   "metadata": {},
   "outputs": [
    {
     "name": "stdout",
     "output_type": "stream",
     "text": [
      "11.634865395999896\n"
     ]
    }
   ],
   "source": [
    "import timeit\n",
    "\n",
    "points = randomPoints(10000)\n",
    "\n",
    "#time for average\n",
    "t1 = timeit.timeit('grahamscan(points)', 'from __main__ import grahamscan, points', number=1)\n",
    "print(t1)\n",
    "\n"
   ]
  },
  {
   "cell_type": "markdown",
   "metadata": {},
   "source": [
    "*Oprional*: Feel free to use the code below on small datasets (e.g., N = 10) to visually inspect whether the algorithm has been implemented correctly. The fragment below assumes both `inputSet` and `outputSet` to be lists of 2D points, with each point being a list of 2 elements (e.g., `[[x1,y1], [x2,y2], ..., [x_k,y_k]]`)"
   ]
  },
  {
   "cell_type": "code",
   "execution_count": 44,
   "metadata": {},
   "outputs": [
    {
     "data": {
      "image/png": "[encoded data removed]",
      "text/plain": [
       "<Figure size 432x288 with 1 Axes>"
      ]
     },
     "metadata": {
      "needs_background": "light"
     },
     "output_type": "display_data"
    }
   ],
   "source": [
    "import matplotlib.pyplot as plt\n",
    "\n",
    "inputSet = randomPoints(100)\n",
    "outputSet = grahamscan(inputSet)\n",
    "\n",
    "# inputSet and outputSet should have been defined above. \n",
    "# uncomment the next two lines only if you wish to test the plotting code before coding your algorithm\n",
    "\n",
    "#inputSet = [[1,1], [2,2] , [3, 3], [4,4], [1,4], [3,1], [1, 5], [2, 4], [3, 5]]\n",
    "#outputSet = [[1,1], [3,1] , [4, 4], [3,5], [1,5]]\n",
    "\n",
    "plt.figure()\n",
    "\n",
    "#first do a scatter plot of the inputSet\n",
    "input_xs, input_ys = zip(*inputSet)\n",
    "plt.scatter(input_xs, input_ys)\n",
    "\n",
    "#then do a polygon plot of the computed covex hull\n",
    "outputSet.append(outputSet[0]) #first create a 'closed loop' by adding the first point at the end of the list\n",
    "output_xs, output_ys = zip(*outputSet) \n",
    "plt.plot(output_xs, output_ys) \n",
    "\n",
    "plt.show() "
   ]
  },
  {
   "cell_type": "code",
   "execution_count": null,
   "metadata": {},
   "outputs": [],
   "source": []
  }
 ],
 "metadata": {
  "kernelspec": {
   "display_name": "Python 3",
   "language": "python",
   "name": "python3"
  },
  "language_info": {
   "codemirror_mode": {
    "name": "ipython",
    "version": 3
   },
   "file_extension": ".py",
   "mimetype": "text/x-python",
   "name": "python",
   "nbconvert_exporter": "python",
   "pygments_lexer": "ipython3",
   "version": "3.8.5"
  }
 },
 "nbformat": 4,
 "nbformat_minor": 4
}
