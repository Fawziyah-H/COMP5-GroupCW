{
 "cells": [
  {
   "cell_type": "markdown",
   "metadata": {},
   "source": [
    "# Jarvis march algorithm"
   ]
  },
  {
   "cell_type": "markdown",
   "metadata": {},
   "source": [
    "Use the cell below for all python code needed to realise the Jarvis march algorithm (including any auxiliary data structures and functions you might need). The `jarvismarch()` function itself should take as input parameter a list of 2D points (`inputSet`), and return the subset of such points (`outputSet`) that lie on the convex hull."
   ]
  },
  {
   "cell_type": "code",
   "execution_count": 24,
   "metadata": {},
   "outputs": [
    {
     "name": "stdout",
     "output_type": "stream",
     "text": [
      "[[1, 1], [3, 1], [4, 4], [3, 5], [1, 5]]\n"
     ]
    }
   ],
   "source": [
    "def jarvismarch(inputSet):\n",
    "    outputSet = []\n",
    "    pointOnHull = min(inputSet)\n",
    "    i = 0\n",
    "    endpoint = []\n",
    "    while True:\n",
    "        outputSet.append(pointOnHull)\n",
    "        endpoint = inputSet[0]\n",
    "        for j in range(0,len(inputSet)):\n",
    "            position = (inputSet[j][0] - endpoint[0]) * (outputSet[i][1] - endpoint[1]) - (inputSet[j][1] - endpoint[1])*(outputSet[i][0] - endpoint[0])\n",
    "            if (endpoint == pointOnHull) or (position < 0):\n",
    "                endpoint = inputSet[j]\n",
    "        i += 1\n",
    "        pointOnHull = endpoint\n",
    "        if endpoint == outputSet[0]:\n",
    "            break\n",
    "    return outputSet\n",
    "\n",
    "#S = [[1,1], [2,2] , [3, 3], [4,4], [1,4], [3,1], [1, 5], [2, 4], [3, 5]]\n",
    "#print(jarvismarch(S))\n"
   ]
  },
  {
   "cell_type": "markdown",
   "metadata": {},
   "source": [
    "Use the cell below for all python code needed to generate test data points (both random and those representing worst-case scenario)."
   ]
  },
  {
   "cell_type": "code",
   "execution_count": 12,
   "metadata": {},
   "outputs": [
    {
     "name": "stdout",
     "output_type": "stream",
     "text": [
      "[(2695, 7379), (30700, 8420), (30838, 24092), (2999, 6933), (21228, 733), (25738, 29832), (32053, 21161), (32009, 21302), (3112, 6776), (15222, 32724), (4975, 28142), (7671, 2508), (3781, 26852), (961, 10852), (8951, 1782), (23569, 1660), (13261, 300), (21109, 696), (10806, 978), (32571, 13865), (16851, 6), (15418, 32737), (20752, 593), (21215, 728), (10541, 31689), (1146, 22404), (22351, 1125), (4008, 5646), (29029, 5967), (12221, 537), (32680, 18059), (32618, 18574), (4828, 27997), (19195, 243), (1679, 23609), (29209, 6190), (2086, 24383), (6043, 29090), (24797, 2326), (9944, 31447), (30166, 7527), (1442, 9662), (32206, 20627), (31878, 21700), (31765, 10746), (12384, 32270), (15328, 33), (27775, 4609), (1843, 23932), (32741, 17273), (14124, 156), (31818, 21874), (3494, 6268), (27697, 4534), (31997, 21342), (32760, 16809), (21437, 31966), (32711, 15050), (32542, 13685), (21493, 31948), (25704, 2910), (14680, 88), (20438, 32256), (23634, 1692), (27479, 4330), (359, 19796), (8702, 1911), (27162, 4045), (14780, 78), (25176, 30206), (21626, 31904), (30164, 7525), (31839, 21815), (1831, 23910), (1426, 9696), (31763, 22026), (6010, 3701), (32620, 14207), (1835, 8847), (5641, 28753), (32555, 18999), (29936, 25587), (166, 14055), (974, 10816), (27959, 4790), (10650, 31730), (5, 16797), (10112, 1247), (14275, 32629), (24679, 2255), (28378, 5224), (14542, 103), (22389, 31625), (7709, 2484), (1912, 8702), (15448, 26), (27057, 3954), (12637, 32332), (28197, 5033), (1384, 9791)]\n"
     ]
    }
   ],
   "source": [
    "import random\n",
    "from math import pi, cos, sin\n",
    "\n",
    "#code for random data generation\n",
    "randPoints = [(random.randrange(0,32767), random.randrange(0,32767)) for i in range(100)]\n",
    "\n",
    "#code for worst case data generation\n",
    "def point(h, k, r):\n",
    "    theta = random.random() * 2 * pi\n",
    "    return int(h + cos(theta) * r), int(k + sin(theta) * r)\n",
    "    \n",
    "worstPoints = [(point(16383,16383,16383)) for i in range(100)]"
   ]
  },
  {
   "cell_type": "markdown",
   "metadata": {},
   "source": [
    "Use the cell below for all python code needed to test the `jarvismarch()` function on the data generated above."
   ]
  },
  {
   "cell_type": "code",
   "execution_count": 21,
   "metadata": {},
   "outputs": [],
   "source": [
    "import timeit\n",
    "\n",
    "#test code"
   ]
  },
  {
   "cell_type": "markdown",
   "metadata": {},
   "source": [
    "*Optional*: Feel free to use the code below on small datasets (e.g., N = 10) to visually inspect whether the algorithm has been implemented correctly. The fragment below assumes both `inputSet` and `outputSet` to be lists of 2D points, with each point being a list of 2 elements (e.g., `[[x1,y1], [x2,y2], ..., [x_k,y_k]]`)"
   ]
  },
  {
   "cell_type": "code",
   "execution_count": 3,
   "metadata": {},
   "outputs": [
    {
     "ename": "NameError",
     "evalue": "name 'worstPoints' is not defined",
     "output_type": "error",
     "traceback": [
      "\u001b[1;31m---------------------------------------------------------------------------\u001b[0m",
      "\u001b[1;31mNameError\u001b[0m                                 Traceback (most recent call last)",
      "\u001b[1;32m<ipython-input-3-267c27983879>\u001b[0m in \u001b[0;36m<module>\u001b[1;34m\u001b[0m\n\u001b[0;32m      1\u001b[0m \u001b[1;32mimport\u001b[0m \u001b[0mmatplotlib\u001b[0m\u001b[1;33m.\u001b[0m\u001b[0mpyplot\u001b[0m \u001b[1;32mas\u001b[0m \u001b[0mplt\u001b[0m\u001b[1;33m\u001b[0m\u001b[1;33m\u001b[0m\u001b[0m\n\u001b[0;32m      2\u001b[0m \u001b[1;33m\u001b[0m\u001b[0m\n\u001b[1;32m----> 3\u001b[1;33m \u001b[0minputSet\u001b[0m \u001b[1;33m=\u001b[0m \u001b[0mworstPoints\u001b[0m\u001b[1;33m\u001b[0m\u001b[1;33m\u001b[0m\u001b[0m\n\u001b[0m\u001b[0;32m      4\u001b[0m \u001b[0moutputSet\u001b[0m \u001b[1;33m=\u001b[0m \u001b[0minputSet\u001b[0m\u001b[1;33m\u001b[0m\u001b[1;33m\u001b[0m\u001b[0m\n\u001b[0;32m      5\u001b[0m \u001b[1;33m\u001b[0m\u001b[0m\n",
      "\u001b[1;31mNameError\u001b[0m: name 'worstPoints' is not defined"
     ]
    }
   ],
   "source": [
    "import matplotlib.pyplot as plt\n",
    "    \n",
    "inputSet = worstPoints\n",
    "outputSet = jarvismarch(inputSet)\n",
    "\n",
    "# inputSet and outputSet should have been defined above. \n",
    "# uncomment the next two lines only if you wish to test the plotting code before coding your algorithm\n",
    "\n",
    "#inputSet = [[1,1], [2,2] , [3, 3], [4,4], [1,4], [3,1], [1, 5], [2, 4], [3, 5]]\n",
    "#outputSet = [[1,1], [3,1] , [4, 4], [3,5], [1,5]]\n",
    "\n",
    "\n",
    "plt.figure()\n",
    "\n",
    "#first do a scatter plot of the inputSet\n",
    "input_xs, input_ys = zip(*inputSet)\n",
    "plt.scatter(input_xs, input_ys)\n",
    "\n",
    "#then do a polygon plot of the computed covex hull\n",
    "outputSet.append(outputSet[0]) #first create a 'closed loop' by adding the first point at the end of the list\n",
    "output_xs, output_ys = zip(*outputSet) \n",
    "plt.plot(output_xs, output_ys) \n",
    "\n",
    "plt.show() "
   ]
  },
  {
   "cell_type": "code",
   "execution_count": null,
   "metadata": {},
   "outputs": [],
   "source": []
  }
 ],
 "metadata": {
  "kernelspec": {
   "display_name": "Python 3",
   "language": "python",
   "name": "python3"
  },
  "language_info": {
   "codemirror_mode": {
    "name": "ipython",
    "version": 3
   },
   "file_extension": ".py",
   "mimetype": "text/x-python",
   "name": "python",
   "nbconvert_exporter": "python",
   "pygments_lexer": "ipython3",
   "version": "3.9.1"
  }
 },
 "nbformat": 4,
 "nbformat_minor": 4
}
