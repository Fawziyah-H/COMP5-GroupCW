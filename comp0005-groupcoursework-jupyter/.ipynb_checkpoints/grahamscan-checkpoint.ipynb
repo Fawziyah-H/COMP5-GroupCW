{
 "cells": [
  {
   "cell_type": "markdown",
   "metadata": {},
   "source": [
    "# Graham scan algorithm"
   ]
  },
  {
   "cell_type": "markdown",
   "metadata": {},
   "source": [
    "Use the cell below for all python code needed to realise the Graham scan algorithm (including any auxiliary data structures and functions you might need). The `grahamscan()` function itself should take as input parameter a list of 2D points (`inputSet`), and return the subset of such points that lie on the convex hull (`outputSet`)."
   ]
  },
  {
   "cell_type": "code",
   "execution_count": 11,
   "metadata": {},
   "outputs": [
    {
     "name": "stdout",
     "output_type": "stream",
     "text": [
      "[(14981, 7835), (28874, 9486), (27402, 16725), (20842, 30328), (8420, 30442), (5314, 26524)]\n"
     ]
    }
   ],
   "source": [
    "from math import atan2\n",
    "\n",
    "def cal_angle(p0, p):\n",
    "    y = p0[1] - p[1]\n",
    "    x = p0[0] - p[0]\n",
    "    angle = atan2(y, x)\n",
    "    return angle\n",
    "\n",
    "def cal_dis(p0, p):\n",
    "    y = p0[1] - p[1]\n",
    "    x = p0[0] - p[0]\n",
    "    dis = x**2 + y**2\n",
    "    return dis\n",
    "\n",
    "def find_start_point(points):\n",
    "    start_point_num = None\n",
    "    for i, (x, y) in enumerate(points):\n",
    "        if start_point_num is None or y < points[start_point_num][1]:\n",
    "            start_point_num = i\n",
    "        if y == points[start_point_num][1] and x < points[start_point_num][0]:\n",
    "            start_point_num = i\n",
    "    start_point = points[start_point_num]\n",
    "    return start_point\n",
    "\n",
    "def bubbleSort(aList, points):\n",
    "    hasExchanged = True\n",
    "    passes = len(aList) - 1\n",
    "\n",
    "    while passes > 0 and hasExchanged:\n",
    "        hasExchanged = False\n",
    "        for i in range(passes):\n",
    "            if aList[i] > aList[i + 1]:\n",
    "                hasExchanged = True\n",
    "                aList[i], aList[i + 1] = aList[i + 1], aList[i]\n",
    "                points[i], points[i + 1] = points[i + 1], points[i]\n",
    "        passes = passes - 1\n",
    "    return points\n",
    "\n",
    "def det(p1, p2, p3):\n",
    "    return (p2[0] - p1[0]) * (p3[1] - p1[1]) \\\n",
    "           - (p2[1] - p1[1]) * (p3[0] - p1[0])\n",
    "\n",
    "def grahamscan(inputSet):\n",
    "    spoint = find_start_point(inputSet)\n",
    "    angle_list = []\n",
    "    for i in inputSet:\n",
    "        angle = cal_angle(i, spoint)\n",
    "        angle_list.append(angle)\n",
    "    sorted = bubbleSort(angle_list, inputSet)\n",
    "    del inputSet[inputSet.index(spoint)]\n",
    "    outputSet = [spoint, sorted[0]]\n",
    "    for i in sorted[1:]:\n",
    "        while det(outputSet[-2], outputSet[-1], i) <= 0:\n",
    "            del outputSet[-1]\n",
    "        outputSet.append(i)\n",
    "    return outputSet"
   ]
  },
  {
   "cell_type": "markdown",
   "metadata": {},
   "source": [
    "Use the cell below for all python code needed to generate test data points (both random and those representing worst-case scenario)."
   ]
  },
  {
   "cell_type": "code",
   "execution_count": 9,
   "metadata": {},
   "outputs": [
    {
     "name": "stdout",
     "output_type": "stream",
     "text": [
      "[(20842, 30328), (8902, 19877), (28874, 9486), (14981, 7835), (8420, 30442), (24070, 20936), (27402, 16725), (12513, 15787), (7453, 28810), (5314, 26524)]\n"
     ]
    }
   ],
   "source": [
    "import random\n",
    "\n",
    "#code for random data generation\n",
    "def create_points():\n",
    "    random_points = [(random.randrange(0, 32767), random.randrange(0, 32767)) for i in range(100)]\n",
    "    return random_points\n",
    "\n",
    "#code for worst case data generation\n",
    "def point(h, k, r):\n",
    "    theta = random.random() * 2 * pi\n",
    "    return int(h + cos(theta) * r), int(k + sin(theta) * r)\n",
    "    \n",
    "worstPoints = [(point(16383,16383,16383)) for i in range(100)]"
   ]
  },
  {
   "cell_type": "markdown",
   "metadata": {},
   "source": [
    "Use the cell below for all python code needed to test the `grahamscan()` function on the data generated above."
   ]
  },
  {
   "cell_type": "code",
   "execution_count": 1,
   "metadata": {},
   "outputs": [],
   "source": [
    "import timeit\n",
    "\n",
    "#test code\n",
    "\n"
   ]
  },
  {
   "cell_type": "markdown",
   "metadata": {},
   "source": [
    "*Oprional*: Feel free to use the code below on small datasets (e.g., N = 10) to visually inspect whether the algorithm has been implemented correctly. The fragment below assumes both `inputSet` and `outputSet` to be lists of 2D points, with each point being a list of 2 elements (e.g., `[[x1,y1], [x2,y2], ..., [x_k,y_k]]`)"
   ]
  },
  {
   "cell_type": "code",
   "execution_count": 7,
   "metadata": {},
   "outputs": [
    {
     "ename": "NameError",
     "evalue": "name 'randompoints' is not defined",
     "output_type": "error",
     "traceback": [
      "\u001b[1;31m---------------------------------------------------------------------------\u001b[0m",
      "\u001b[1;31mNameError\u001b[0m                                 Traceback (most recent call last)",
      "\u001b[1;32m<ipython-input-7-12fdae2c8549>\u001b[0m in \u001b[0;36m<module>\u001b[1;34m\u001b[0m\n\u001b[0;32m      1\u001b[0m \u001b[1;32mimport\u001b[0m \u001b[0mmatplotlib\u001b[0m\u001b[1;33m.\u001b[0m\u001b[0mpyplot\u001b[0m \u001b[1;32mas\u001b[0m \u001b[0mplt\u001b[0m\u001b[1;33m\u001b[0m\u001b[1;33m\u001b[0m\u001b[0m\n\u001b[0;32m      2\u001b[0m \u001b[1;33m\u001b[0m\u001b[0m\n\u001b[1;32m----> 3\u001b[1;33m \u001b[0minputSet\u001b[0m \u001b[1;33m=\u001b[0m \u001b[0mrandompoints\u001b[0m\u001b[1;33m\u001b[0m\u001b[1;33m\u001b[0m\u001b[0m\n\u001b[0m\u001b[0;32m      4\u001b[0m \u001b[0moutputSet\u001b[0m \u001b[1;33m=\u001b[0m \u001b[0mgrahamscan\u001b[0m\u001b[1;33m(\u001b[0m\u001b[0minputSet\u001b[0m\u001b[1;33m)\u001b[0m\u001b[1;33m\u001b[0m\u001b[1;33m\u001b[0m\u001b[0m\n\u001b[0;32m      5\u001b[0m \u001b[1;33m\u001b[0m\u001b[0m\n",
      "\u001b[1;31mNameError\u001b[0m: name 'randompoints' is not defined"
     ]
    }
   ],
   "source": [
    "import matplotlib.pyplot as plt\n",
    "\n",
    "# inputSet and outputSet should have been defined above. \n",
    "# uncomment the next two lines only if you wish to test the plotting code before coding your algorithm\n",
    "\n",
    "inputSet = [[1,1], [2,2] , [3, 3], [4,4], [1,4], [3,1], [1, 5], [2, 4], [3, 5]]\n",
    "outputSet = [[1,1], [3,1] , [4, 4], [3,5], [1,5]]\n",
    "\n",
    "plt.figure()\n",
    "\n",
    "#first do a scatter plot of the inputSet\n",
    "input_xs, input_ys = zip(*inputSet)\n",
    "plt.scatter(input_xs, input_ys)\n",
    "\n",
    "#then do a polygon plot of the computed covex hull\n",
    "outputSet.append(outputSet[0]) #first create a 'closed loop' by adding the first point at the end of the list\n",
    "output_xs, output_ys = zip(*outputSet) \n",
    "plt.plot(output_xs, output_ys) \n",
    "\n",
    "plt.show() "
   ]
  },
  {
   "cell_type": "code",
   "execution_count": null,
   "metadata": {},
   "outputs": [],
   "source": []
  }
 ],
 "metadata": {
  "kernelspec": {
   "display_name": "Python 3",
   "language": "python",
   "name": "python3"
  },
  "language_info": {
   "codemirror_mode": {
    "name": "ipython",
    "version": 3
   },
   "file_extension": ".py",
   "mimetype": "text/x-python",
   "name": "python",
   "nbconvert_exporter": "python",
   "pygments_lexer": "ipython3",
   "version": "3.9.1"
  }
 },
 "nbformat": 4,
 "nbformat_minor": 4
}
