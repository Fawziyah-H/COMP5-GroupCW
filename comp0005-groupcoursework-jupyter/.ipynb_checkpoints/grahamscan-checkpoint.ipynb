{
 "cells": [
  {
   "cell_type": "markdown",
   "metadata": {},
   "source": [
    "# Graham scan algorithm"
   ]
  },
  {
   "cell_type": "markdown",
   "metadata": {},
   "source": [
    "Use the cell below for all python code needed to realise the Graham scan algorithm (including any auxiliary data structures and functions you might need). The `grahamscan()` function itself should take as input parameter a list of 2D points (`inputSet`), and return the subset of such points that lie on the convex hull (`outputSet`)."
   ]
  },
  {
   "cell_type": "code",
   "execution_count": 13,
   "metadata": {},
   "outputs": [],
   "source": [
    "from math import atan2\n",
    "\n",
    "def det(p1, p2, p3):\n",
    "    return (p2[0] - p1[0]) * (p3[1] - p1[1]) - (p2[1] - p1[1]) * (p3[0] - p1[0]) <= 0\n",
    "\n",
    "def calcAngle(point):\n",
    "    y = point[1] - anchor[1]\n",
    "    x = point[0] - anchor[0]\n",
    "    angle = atan2(y, x)\n",
    "    return angle\n",
    "\n",
    "def calcDistance(point):\n",
    "    y = point[1] - anchor[1]\n",
    "    x = point[0] - anchor[0]\n",
    "    distance = x ** 2 + y ** 2\n",
    "    return distance\n",
    "\n",
    "def sorterKey(item):\n",
    "    angle = calcAngle(item)\n",
    "    distance = calcDistance(item)\n",
    "    return (angle, distance)\n",
    "\n",
    "def sortByAngle(inputSet):\n",
    "    return sorted(inputSet, key=sorterKey)\n",
    "\n",
    "def getFirstPoint(inputSet):\n",
    "    i = 0\n",
    "    firstPoint = [32767, 32767]\n",
    "    while i < len(inputSet):\n",
    "        if inputSet[i][1] < firstPoint[1]:\n",
    "            firstPoint = inputSet[i]\n",
    "        elif inputSet[i][1] == firstPoint[1] and inputSet[i][0] < firstPoint[0]:\n",
    "            firstPoint = inputSet[i]\n",
    "        i += 1\n",
    "    return firstPoint\n",
    "\n",
    "def grahamscan(inputSet):\n",
    "    sortedSet = sortByAngle(inputSet)\n",
    "    outputSet = [anchor, sortedSet[1]]\n",
    "    for i in sortedSet[2:]:\n",
    "        while det(outputSet[-2], outputSet[-1], i):\n",
    "            del outputSet[-1]\n",
    "        outputSet.append(i)\n",
    "    return outputSet"
   ]
  },
  {
   "cell_type": "markdown",
   "metadata": {},
   "source": [
    "Use the cell below for all python code needed to generate test data points (both random and those representing worst-case scenario)."
   ]
  },
  {
   "cell_type": "code",
   "execution_count": 12,
   "metadata": {},
   "outputs": [],
   "source": [
    "import random\n",
    "from math import pi, sin, cos\n",
    "\n",
    "#code for random data generation\n",
    "def randomPoints(n):\n",
    "    randPoints = []\n",
    "    while len(randPoints) < n:\n",
    "        point = (random.randrange(0,32767), random.randrange(0,32767))\n",
    "        if point not in randPoints:\n",
    "            randPoints.append(point)\n",
    "    return randPoints\n",
    "\n",
    "#code for worst case data generation\n",
    "def point(h, k, r):\n",
    "    theta = random.random() * 2 * pi\n",
    "    return int(h + cos(theta) * r), int(k + sin(theta) * r)\n",
    "    \n",
    "def worstPoints(n):\n",
    "    worstCase = []\n",
    "    while len(worstCase) < n:\n",
    "        p = (point(16383,16383,16383))\n",
    "        if p not in worstCase:\n",
    "            worstCase.append(p)\n",
    "    return worstCase"
   ]
  },
  {
   "cell_type": "markdown",
   "metadata": {},
   "source": [
    "Use the cell below for all python code needed to test the `grahamscan()` function on the data generated above."
   ]
  },
  {
   "cell_type": "code",
   "execution_count": 22,
   "metadata": {},
   "outputs": [
    {
     "name": "stdout",
     "output_type": "stream",
     "text": [
      "0.0016434229999958915\n"
     ]
    }
   ],
   "source": [
    "import timeit\n",
    "\n",
    "#test code\n",
    "N = 100\n",
    "inputSet = randomPoints(N)       # average case\n",
    "#inputSet = worstPoints(N)       # worst-case\n",
    "anchor = getFirstPoint(inputSet)\n",
    "\n",
    "def timer():\n",
    "    grahamscan(inputSet)\n",
    "    \n",
    "t = timeit.timeit(\"timer()\", setup=\"from __main__ import timer\", number=100)\n",
    "    \n",
    "print(t/100)"
   ]
  },
  {
   "cell_type": "markdown",
   "metadata": {},
   "source": [
    "*Oprional*: Feel free to use the code below on small datasets (e.g., N = 10) to visually inspect whether the algorithm has been implemented correctly. The fragment below assumes both `inputSet` and `outputSet` to be lists of 2D points, with each point being a list of 2 elements (e.g., `[[x1,y1], [x2,y2], ..., [x_k,y_k]]`)"
   ]
  },
  {
   "cell_type": "code",
   "execution_count": 23,
   "metadata": {},
   "outputs": [
    {
     "data": {
      "image/png": "[encoded data removed]",
      "text/plain": [
       "<Figure size 432x288 with 1 Axes>"
      ]
     },
     "metadata": {
      "needs_background": "light"
     },
     "output_type": "display_data"
    }
   ],
   "source": [
    "import matplotlib.pyplot as plt\n",
    "\n",
    "inputSet = randomPoints(100)\n",
    "outputSet = grahamscan(inputSet)\n",
    "\n",
    "# inputSet and outputSet should have been defined above. \n",
    "# uncomment the next two lines only if you wish to test the plotting code before coding your algorithm\n",
    "\n",
    "#inputSet = [[1,1], [2,2] , [3, 3], [4,4], [1,4], [3,1], [1, 5], [2, 4], [3, 5]]\n",
    "#outputSet = [[1,1], [3,1] , [4, 4], [3,5], [1,5]]\n",
    "\n",
    "plt.figure()\n",
    "\n",
    "#first do a scatter plot of the inputSet\n",
    "input_xs, input_ys = zip(*inputSet)\n",
    "plt.scatter(input_xs, input_ys)\n",
    "\n",
    "#then do a polygon plot of the computed covex hull\n",
    "outputSet.append(outputSet[0]) #first create a 'closed loop' by adding the first point at the end of the list\n",
    "output_xs, output_ys = zip(*outputSet) \n",
    "plt.plot(output_xs, output_ys) \n",
    "\n",
    "plt.show() "
   ]
  },
  {
   "cell_type": "code",
   "execution_count": null,
   "metadata": {},
   "outputs": [],
   "source": []
  }
 ],
 "metadata": {
  "kernelspec": {
   "display_name": "Python 3",
   "language": "python",
   "name": "python3"
  },
  "language_info": {
   "codemirror_mode": {
    "name": "ipython",
    "version": 3
   },
   "file_extension": ".py",
   "mimetype": "text/x-python",
   "name": "python",
   "nbconvert_exporter": "python",
   "pygments_lexer": "ipython3",
   "version": "3.9.1"
  }
 },
 "nbformat": 4,
 "nbformat_minor": 4
}
