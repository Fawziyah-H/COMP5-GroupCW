{
 "cells": [
  {
   "cell_type": "markdown",
   "metadata": {},
   "source": [
    "# Jarvis march algorithm"
   ]
  },
  {
   "cell_type": "markdown",
   "metadata": {},
   "source": [
    "Use the cell below for all python code needed to realise the Jarvis march algorithm (including any auxiliary data structures and functions you might need). The `jarvismarch()` function itself should take as input parameter a list of 2D points (`inputSet`), and return the subset of such points (`outputSet`) that lie on the convex hull."
   ]
  },
  {
   "cell_type": "code",
   "execution_count": 24,
   "metadata": {},
   "outputs": [
    {
     "name": "stdout",
     "output_type": "stream",
     "text": [
      "[[1, 1], [3, 1], [4, 4], [3, 5], [1, 5]]\n"
     ]
    }
   ],
   "source": [
    "def jarvismarch(inputSet):\n",
    "    outputSet = []\n",
    "    pointOnHull = min(inputSet)\n",
    "    i = 0\n",
    "    endpoint = []\n",
    "    while True:\n",
    "        outputSet.append(pointOnHull)\n",
    "        endpoint = inputSet[0]\n",
    "        for j in range(0,len(inputSet)):\n",
    "            position = (inputSet[j][0] - endpoint[0]) * (outputSet[i][1] - endpoint[1]) - (inputSet[j][1] - endpoint[1])*(outputSet[i][0] - endpoint[0])\n",
    "            if (endpoint == pointOnHull) or (position < 0):\n",
    "                endpoint = inputSet[j]\n",
    "        i += 1\n",
    "        pointOnHull = endpoint\n",
    "        if endpoint == outputSet[0]:\n",
    "            break\n",
    "    return outputSet\n",
    "\n",
    "S = [[1,1], [2,2] , [3, 3], [4,4], [1,4], [3,1], [1, 5], [2, 4], [3, 5]]\n",
    "print(jarvismarch(S))\n"
   ]
  },
  {
   "cell_type": "markdown",
   "metadata": {},
   "source": [
    "Use the cell below for all python code needed to generate test data points (both random and those representing worst-case scenario)."
   ]
  },
  {
   "cell_type": "code",
   "execution_count": 25,
   "metadata": {},
   "outputs": [
    {
     "name": "stdout",
     "output_type": "stream",
     "text": [
      "[(949, 29345), (30731, 22597), (16387, 16576), (8893, 24620), (12828, 25707), (19916, 22875), (12501, 31649), (19854, 29497), (28306, 1007), (4290, 18900), (25247, 29080), (12049, 12346), (28287, 8014), (26002, 24001), (10283, 6072), (16581, 20051), (19023, 448), (5360, 18111), (14865, 23955), (22150, 21263), (18443, 9577), (9195, 20174), (31735, 19952), (17606, 602), (6822, 15161), (27782, 25930), (8752, 7625), (18303, 11203), (23795, 2220), (3544, 5708), (3097, 31098), (8731, 6473), (1458, 2087), (4030, 20712), (17067, 2258), (24619, 8485), (21988, 11947), (8418, 17222), (10451, 29829), (28027, 10014), (15955, 19955), (6302, 19131), (25136, 25546), (10496, 9790), (4572, 12151), (32177, 21134), (18320, 15101), (4970, 10410), (22474, 20924), (4978, 25278), (5749, 3861), (755, 14355), (4883, 29748), (1049, 27920), (1872, 26977), (5737, 7466), (16726, 29612), (27434, 14803), (28613, 6154), (13631, 1325), (9583, 5479), (26361, 13575), (3155, 4767), (13042, 18006), (23478, 21773), (16219, 19015), (24693, 14975), (23733, 1200), (32428, 18742), (18206, 26674), (5867, 32474), (5691, 3315), (30390, 3044), (26025, 31109), (215, 19897), (3191, 28279), (23859, 12100), (13448, 18156), (10386, 8414), (6157, 2462), (19224, 20857), (28159, 23881), (17570, 6214), (29808, 16023), (13100, 4680), (29884, 17902), (21027, 21290), (11662, 30007), (18243, 4948), (12450, 12722), (30550, 15592), (14905, 18171), (29012, 32266), (29173, 30545), (24598, 17073), (1836, 12008), (22996, 10119), (29990, 20526), (14506, 22510), (26558, 4514)]\n"
     ]
    }
   ],
   "source": [
    "import random\n",
    "\n",
    "#code for random data generation\n",
    "randPoints = [(random.randrange(0,32767), random.randrange(0,32767)) for i in range(100)]\n",
    "\n",
    "#code for worst case data generation\n"
   ]
  },
  {
   "cell_type": "markdown",
   "metadata": {},
   "source": [
    "Use the cell below for all python code needed to test the `jarvismarch()` function on the data generated above."
   ]
  },
  {
   "cell_type": "code",
   "execution_count": 5,
   "metadata": {},
   "outputs": [],
   "source": [
    "import timeit\n",
    "\n",
    "#test code\n"
   ]
  },
  {
   "cell_type": "markdown",
   "metadata": {},
   "source": [
    "*Optional*: Feel free to use the code below on small datasets (e.g., N = 10) to visually inspect whether the algorithm has been implemented correctly. The fragment below assumes both `inputSet` and `outputSet` to be lists of 2D points, with each point being a list of 2 elements (e.g., `[[x1,y1], [x2,y2], ..., [x_k,y_k]]`)"
   ]
  },
  {
   "cell_type": "code",
   "execution_count": 28,
   "metadata": {},
   "outputs": [
    {
     "data": {
      "image/png": "[encoded data removed]",
      "text/plain": [
       "<Figure size 432x288 with 1 Axes>"
      ]
     },
     "metadata": {
      "needs_background": "light"
     },
     "output_type": "display_data"
    }
   ],
   "source": [
    "import matplotlib.pyplot as plt\n",
    "\n",
    "# inputSet and outputSet should have been defined above. \n",
    "# uncomment the next two lines only if you wish to test the plotting code before coding your algorithm\n",
    "\n",
    "#inputSet = [[1,1], [2,2] , [3, 3], [4,4], [1,4], [3,1], [1, 5], [2, 4], [3, 5]]\n",
    "#outputSet = [[1,1], [3,1] , [4, 4], [3,5], [1,5]]\n",
    "\n",
    "plt.figure()\n",
    "\n",
    "#first do a scatter plot of the inputSet\n",
    "input_xs, input_ys = zip(*inputSet)\n",
    "plt.scatter(input_xs, input_ys)\n",
    "\n",
    "#then do a polygon plot of the computed covex hull\n",
    "outputSet.append(outputSet[0]) #first create a 'closed loop' by adding the first point at the end of the list\n",
    "output_xs, output_ys = zip(*outputSet) \n",
    "plt.plot(output_xs, output_ys) \n",
    "\n",
    "plt.show() "
   ]
  },
  {
   "cell_type": "code",
   "execution_count": null,
   "metadata": {},
   "outputs": [],
   "source": []
  }
 ],
 "metadata": {
  "kernelspec": {
   "display_name": "Python 3",
   "language": "python",
   "name": "python3"
  },
  "language_info": {
   "codemirror_mode": {
    "name": "ipython",
    "version": 3
   },
   "file_extension": ".py",
   "mimetype": "text/x-python",
   "name": "python",
   "nbconvert_exporter": "python",
   "pygments_lexer": "ipython3",
   "version": "3.9.1"
  }
 },
 "nbformat": 4,
 "nbformat_minor": 4
}
